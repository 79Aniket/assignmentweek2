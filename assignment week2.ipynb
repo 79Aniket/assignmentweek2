{
 "cells": [
  {
   "cell_type": "markdown",
   "id": "e0217412-83e6-4113-a33b-a71b1406ba06",
   "metadata": {},
   "source": [
    "### Q1. Create a python program to sort the given list of tuples based on integer value using a\n",
    "### lambda function.\n",
    "### [('Sachin Tendulkar', 34357), ('Ricky Ponting', 27483), ('Jack Kallis', 25534), ('Virat Kohli', 24936)]"
   ]
  },
  {
   "cell_type": "code",
   "execution_count": 1,
   "id": "e93b4650-f165-4137-8ae7-8dc384096bab",
   "metadata": {},
   "outputs": [
    {
     "name": "stdout",
     "output_type": "stream",
     "text": [
      "[('Virat Kohli', 24936), ('Jack Kallis', 25534), ('Ricky Ponting', 27483), ('Sachin Tendulkar', 34357)]\n"
     ]
    }
   ],
   "source": [
    "tuples = [('Sachin Tendulkar', 34357), ('Ricky Ponting', 27483), ('Jack Kallis', 25534), ('Virat Kohli', 24936)]\n",
    "integer_value = lambda x : x [1]\n",
    "tuples.sort(key = integer_value)\n",
    "print(tuples)"
   ]
  },
  {
   "cell_type": "code",
   "execution_count": null,
   "id": "26dee62f-b61b-42a1-b062-2ddcd27596e9",
   "metadata": {},
   "outputs": [],
   "source": []
  },
  {
   "cell_type": "markdown",
   "id": "aff6e0e9-3699-46b8-87be-cb194836a780",
   "metadata": {},
   "source": [
    "### Q2. Write a Python Program to find the squares of all the numbers in the given list of integers using\n",
    "### lambda and map functions [1, 2, 3, 4, 5, 6, 7, 8, 9, 10]"
   ]
  },
  {
   "cell_type": "code",
   "execution_count": 1,
   "id": "68fe8df4-81aa-4672-acce-9e309bc744cb",
   "metadata": {},
   "outputs": [],
   "source": [
    "l = [1, 2, 3, 4, 5, 6, 7, 8, 9, 10]"
   ]
  },
  {
   "cell_type": "code",
   "execution_count": 5,
   "id": "fdb88632-9615-4fcf-9be1-21d7d472389a",
   "metadata": {},
   "outputs": [
    {
     "data": {
      "text/plain": [
       "[1, 4, 9, 16, 25, 36, 49, 64, 81, 100]"
      ]
     },
     "execution_count": 5,
     "metadata": {},
     "output_type": "execute_result"
    }
   ],
   "source": [
    "list(map(lambda x : x**2 , l))"
   ]
  },
  {
   "cell_type": "code",
   "execution_count": null,
   "id": "5e4d0290-b3c6-4b2c-afa0-7cafec909db2",
   "metadata": {},
   "outputs": [],
   "source": []
  },
  {
   "cell_type": "markdown",
   "id": "055d2ac9-e08b-4897-9c60-f1de0d8f4534",
   "metadata": {},
   "source": [
    "### Q5. Write a python program to filter the numbers in a given list that are divisible by 2 and 3 using the\n",
    "### filter function. [2, 3, 6, 9, 27, 60, 90, 120, 55, 46]\n",
    "\n",
    "\n"
   ]
  },
  {
   "cell_type": "code",
   "execution_count": 6,
   "id": "c513d3d4-0c40-430f-956a-eb3112bfcf42",
   "metadata": {},
   "outputs": [],
   "source": [
    "l = [2, 3, 6, 9, 27, 60, 90, 120, 55, 46]\n",
    "  "
   ]
  },
  {
   "cell_type": "code",
   "execution_count": 7,
   "id": "48d038e0-2015-4b52-871f-9a1a39866829",
   "metadata": {},
   "outputs": [
    {
     "data": {
      "text/plain": [
       "[6, 60, 90, 120]"
      ]
     },
     "execution_count": 7,
     "metadata": {},
     "output_type": "execute_result"
    }
   ],
   "source": [
    "list(filter(lambda x : x%2 == 0 and x%3 == 0, l))"
   ]
  },
  {
   "cell_type": "code",
   "execution_count": null,
   "id": "74ce8430-71ff-4e18-acd8-8bfbc9092bba",
   "metadata": {},
   "outputs": [],
   "source": []
  },
  {
   "cell_type": "markdown",
   "id": "58c60eb2-f268-41d0-9f28-6d9110d72ea7",
   "metadata": {},
   "source": [
    "### Q3. Write a python program to convert the given list of integers into a tuple of strings. Use map and\n",
    "### lambda functions\n",
    "\n",
    "\n",
    "### Given String: [1, 2, 3, 4, 5, 6, 7, 8, 9, 10]\n"
   ]
  },
  {
   "cell_type": "code",
   "execution_count": 5,
   "id": "51ac1fce-bc4f-4227-9487-76e6cbfaf542",
   "metadata": {},
   "outputs": [
    {
     "name": "stdout",
     "output_type": "stream",
     "text": [
      "('1', '2', '3', '4', '5', '6', '7', '8', '9', '10')\n"
     ]
    }
   ],
   "source": [
    "my_list = [1,2,3,4,5,6,7,8,9,10]\n",
    "string_tup = tuple(map(lambda x : str(x), my_list))\n",
    "print(string_tup)"
   ]
  },
  {
   "cell_type": "code",
   "execution_count": null,
   "id": "61d9e322-1ab6-48d7-bed7-6b593078a56d",
   "metadata": {},
   "outputs": [],
   "source": []
  },
  {
   "cell_type": "markdown",
   "id": "f0cf2e86-a69c-4cb0-b39d-1ad7834ed2ba",
   "metadata": {},
   "source": [
    "### Q6. Write a python program to find palindromes in the given list of strings using lambda and filter\n",
    "### function.\n",
    "### ['python', 'php', 'aba', 'radar', 'level']"
   ]
  },
  {
   "cell_type": "code",
   "execution_count": 1,
   "id": "115e69ca-280e-455f-8b9c-ea75b145d73b",
   "metadata": {},
   "outputs": [
    {
     "name": "stdout",
     "output_type": "stream",
     "text": [
      "palidromes: ['python', 'php', 'aba', 'radar', 'level']\n"
     ]
    }
   ],
   "source": [
    "string = ['python', 'php', 'aba', 'radar', 'level']\n",
    "palidromes =  list(filter(lambda x : x[::-1],string))\n",
    "print(\"palidromes:\",palidromes)"
   ]
  },
  {
   "cell_type": "code",
   "execution_count": null,
   "id": "fafc9edf-c410-4790-b035-fcf14c0fd664",
   "metadata": {},
   "outputs": [],
   "source": []
  },
  {
   "cell_type": "markdown",
   "id": "464bc38a-6413-46cb-a6dd-e7b2827671dd",
   "metadata": {},
   "source": [
    "Q4. Write a python program using reduce function to compute the product of a list containing numbers\n",
    "from 1 to 25."
   ]
  }
 ],
 "metadata": {
  "kernelspec": {
   "display_name": "Python 3 (ipykernel)",
   "language": "python",
   "name": "python3"
  },
  "language_info": {
   "codemirror_mode": {
    "name": "ipython",
    "version": 3
   },
   "file_extension": ".py",
   "mimetype": "text/x-python",
   "name": "python",
   "nbconvert_exporter": "python",
   "pygments_lexer": "ipython3",
   "version": "3.10.8"
  }
 },
 "nbformat": 4,
 "nbformat_minor": 5
}
